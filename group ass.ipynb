{
 "cells": [
  {
   "cell_type": "markdown",
   "id": "33508644-62b1-475a-b030-2f89845dd49d",
   "metadata": {},
   "source": [
    "# SECTION 1 - Preparing for analysis"
   ]
  },
  {
   "cell_type": "code",
   "execution_count": 1,
   "id": "0234530a-e5ec-4301-9e62-a82af681a6a5",
   "metadata": {},
   "outputs": [],
   "source": [
    "### Impor packages\n",
    "import os\n",
    "import pandas as pd\n",
    "import numpy as np\n",
    "from datetime import datetime\n",
    "import matplotlib.pyplot as plt\n",
    "import pickle\n",
    "import sys, re, spacy\n",
    "from textblob import TextBlob\n",
    "import textstat\n",
    "import spacy\n",
    "nlp=spacy.load('en_core_web_md')\n",
    "from collections import Counter"
   ]
  },
  {
   "cell_type": "code",
   "execution_count": 2,
   "id": "4e795012-4df5-4c1d-b050-9f22cabff996",
   "metadata": {},
   "outputs": [
    {
     "data": {
      "text/plain": [
       "90"
      ]
     },
     "execution_count": 2,
     "metadata": {},
     "output_type": "execute_result"
    }
   ],
   "source": [
    "### creating ticker list\n",
    "ticker_list = ['NVDA.p','MA.p', 'KO.p', 'TD.p', 'TSLA.p', 'GS.p', 'JNJ.p', 'SBUX.p', 'NVO.p', 'INTU.p', 'NFLX.p', 'BX.p', 'LLY.p', 'PEP.p', 'EBAY.p', 'SAP.p', 'FB.p', 'ABBV.p', 'CHTR.p', 'MRK.p', 'BMY.p', 'ADBE.p', 'ORCL.p', 'F.p', 'NKE.p', 'BKNG.p', 'GM.p', 'UPS.p', 'T.p', 'AMD.p', 'CMCSA.p', 'DIS.p', 'MDT.p', 'SNY.p', 'INTC.p', 'MS.p', 'HON.p', 'DUK.p', 'BLK.p', 'TGT.p', 'CSCO.p', 'TMUS.p', 'UNH.p', 'WMT.p', 'AXP.p',  'FDX.p', 'MCD.p', 'GOOG.p', 'ASML.p', 'V.p', 'BAC.p', 'RY.p', 'AMT.p', 'WFC.p', 'XOM.p', 'MET.p', 'QCOM.p', 'PM.p', 'CVS.p', 'MSFT.p', 'AMZN.p', 'IBM.p', 'VZ.p', 'ACN.p', 'C.p', 'HD.p', 'NVS.p', 'ISRG.p', 'AZN.p', 'CRM.p', 'PG.p', 'AAPL.p', 'TMO.p', 'TSM.p', 'EL.p', 'DHR.p', 'TXN.p', 'JPM.p', 'PFE.p', 'SE.p', 'CVX.p', 'NEE.p', 'AMGN.p', 'COST.p', 'BA.p', 'ABT.p', 'MCO.p', 'LOW.p', 'LMT.p', 'UNP.p']\n",
    "len(ticker_list)"
   ]
  },
  {
   "cell_type": "code",
   "execution_count": 3,
   "id": "e5c3fa95-c1dc-4fa6-af73-906e550c2070",
   "metadata": {},
   "outputs": [
    {
     "name": "stdout",
     "output_type": "stream",
     "text": [
      "Detta är våra tickers, ['CMCSA.p', 'DIS.p', 'MDT.p', 'SNY.p', 'INTC.p', 'MS.p', 'HON.p', 'DUK.p', 'BLK.p', 'TGT.p']\n"
     ]
    }
   ],
   "source": [
    "tl4 = ticker_list[30:40]\n",
    "print(f\"Detta är våra tickers, {tl4}\")"
   ]
  },
  {
   "cell_type": "code",
   "execution_count": 4,
   "id": "a5ad6142-d7b5-486f-94dd-bf6a7e14e53f",
   "metadata": {
    "tags": []
   },
   "outputs": [],
   "source": [
    "## Getting Loughran & McDonald (LM) Wordlists\n",
    "LM_negative=pd.read_excel('./shared/Lecture 3 Text Analysis/LoughranMcDonald_SentimentWordLists_2018.xlsx', sheet_name='Negative', header=None)\n",
    "LM_positive=pd.read_excel('./shared/Lecture 3 Text Analysis/LoughranMcDonald_SentimentWordLists_2018.xlsx', sheet_name='Positive', header=None)\n",
    "LM_uncertainty=pd.read_excel('./shared/Lecture 3 Text Analysis/LoughranMcDonald_SentimentWordLists_2018.xlsx', sheet_name='Uncertainty', header=None)"
   ]
  },
  {
   "cell_type": "code",
   "execution_count": 5,
   "id": "9d2c0a52-0afa-4f9d-94b7-028e491e2092",
   "metadata": {
    "tags": []
   },
   "outputs": [
    {
     "data": {
      "text/plain": [
       "(354, 2355, 297)"
      ]
     },
     "execution_count": 5,
     "metadata": {},
     "output_type": "execute_result"
    }
   ],
   "source": [
    "#preparing wordlists\n",
    "LM_positive=LM_positive.T.values.tolist()[0]\n",
    "LM_negative=LM_negative.T.values.tolist()[0]\n",
    "LM_uncertainty=LM_uncertainty.T.values.tolist()[0]\n",
    "len(LM_positive), len(LM_negative), len(LM_uncertainty)"
   ]
  },
  {
   "cell_type": "code",
   "execution_count": 6,
   "id": "56c46fcf-0531-4a16-a615-5933cd1a968a",
   "metadata": {},
   "outputs": [],
   "source": [
    "## defining process function that removes punctuation, stop words and spaces\n",
    "def process_spacy_doc(text):\n",
    "    # Tokenize\n",
    "    # Remove stop words, spaces, punctuation\n",
    "    # Lemmatize\n",
    "    # Convert to lower case\n",
    "    words=[\n",
    "        word.lemma_.lower()                 # Lemmatize and lower case\n",
    "        for word in nlp(text)          # Tokenize\n",
    "        if not (\n",
    "            word.is_space                   # Remove spaces\n",
    "            or word.is_stop                 # Remove stop words\n",
    "            or word.is_punct                # Remove punctuation\n",
    "        )\n",
    "    ]\n",
    "    return words"
   ]
  },
  {
   "cell_type": "code",
   "execution_count": 7,
   "id": "4bc1b824-6c00-40e8-b9a1-21374fa92f1f",
   "metadata": {},
   "outputs": [
    {
     "data": {
      "text/plain": [
       "(354, 2353, 288)"
      ]
     },
     "execution_count": 7,
     "metadata": {},
     "output_type": "execute_result"
    }
   ],
   "source": [
    "LM_positive=process_spacy_doc(' '.join(LM_positive))\n",
    "LM_negative=process_spacy_doc(' '.join(LM_negative))\n",
    "LM_uncertainty=process_spacy_doc(' '.join(LM_uncertainty))\n",
    "len(LM_positive), len(LM_negative), len(LM_uncertainty)"
   ]
  },
  {
   "cell_type": "code",
   "execution_count": 8,
   "id": "6a004def-b9d3-4762-a475-3707e7c6eda3",
   "metadata": {},
   "outputs": [
    {
     "data": {
      "text/plain": [
       "(239, 1341, 194)"
      ]
     },
     "execution_count": 8,
     "metadata": {},
     "output_type": "execute_result"
    }
   ],
   "source": [
    "LM_positive=set(process_spacy_doc(' '.join(LM_positive)))\n",
    "LM_negative=set(process_spacy_doc(' '.join(LM_negative)))\n",
    "LM_uncertainty=set(process_spacy_doc(' '.join(LM_uncertainty)))\n",
    "len(LM_positive), len(LM_negative), len(LM_uncertainty)"
   ]
  },
  {
   "cell_type": "code",
   "execution_count": 9,
   "id": "d3f9da21-c0ab-44e6-8d79-dc9d663ee564",
   "metadata": {},
   "outputs": [],
   "source": [
    "def score_transcript(text):\n",
    "    # Running the function we created earlier that remove stopwords, spaces and so on... \n",
    "    words = process_spacy_doc(text)\n",
    "\n",
    "        \n",
    "    # This is the same as above as well. \n",
    "    # We the save the amount of words for later. This will show us how many % of the words are e.g. positive. \n",
    "    number_of_words=len(words)\n",
    "    \n",
    "    counts=Counter(words)\n",
    "\n",
    "    keys=set(counts.keys())\n",
    "\n",
    "    pos = round((sum([counts[k] for k in (keys & LM_positive)]) / number_of_words), 4)\n",
    "    neg = round((sum([counts[k] for k in (keys & LM_negative)]) / number_of_words), 4)\n",
    "    unc = round((sum([counts[k] for k in (keys & LM_uncertainty)]) / number_of_words), 4)\n",
    "    \n",
    "    return(pos, neg, unc)"
   ]
  },
  {
   "cell_type": "markdown",
   "id": "e67ec636-cc9b-4c4f-8dcd-d538f1104fbd",
   "metadata": {},
   "source": [
    "# SECTION 2 - Sentiment analysis & CSV."
   ]
  },
  {
   "cell_type": "code",
   "execution_count": 77,
   "id": "0c9491ee-ab5a-4bef-915d-63ffbb9f68fe",
   "metadata": {},
   "outputs": [
    {
     "name": "stdout",
     "output_type": "stream",
     "text": [
      "TGT\n"
     ]
    }
   ],
   "source": [
    "## Change ticker to be loaded 0-9\n",
    "tl = tl4[9]\n",
    "size = len(tl)\n",
    "ticker_name = tl[:size - 2]\n",
    "print(ticker_name)"
   ]
  },
  {
   "cell_type": "code",
   "execution_count": 78,
   "id": "bd3c1627-8dcd-4d01-8053-9def4b38c004",
   "metadata": {
    "tags": []
   },
   "outputs": [],
   "source": [
    "## Load transcripts from ticker variable \"tl\"\n",
    "transcripts = pickle.load(open( str(\"./shared/Transcripts/\"+tl), \"rb\" ) )"
   ]
  },
  {
   "cell_type": "code",
   "execution_count": 79,
   "id": "c7d9d028-69c2-4eb8-b449-9c0f3347a79f",
   "metadata": {},
   "outputs": [
    {
     "data": {
      "text/plain": [
       "(72, 72, 72)"
      ]
     },
     "execution_count": 79,
     "metadata": {},
     "output_type": "execute_result"
    }
   ],
   "source": [
    "## transctipts to list\n",
    "transcripts_texts = []\n",
    "\n",
    "# times to list\n",
    "times = []\n",
    "fqtr = []\n",
    "\n",
    "for t in transcripts:\n",
    "    text = ''\n",
    "    for speech in t['transcript']:\n",
    "        text = str(text + ' '+ speech['speech'][0])\n",
    "\n",
    "    transcripts_texts.append(text)\n",
    "    \n",
    "    times.append(t['time'])\n",
    "    \n",
    "    fqtr.append(t['quarter'])\n",
    "    \n",
    "len(transcripts_texts), len(times), len(fqtr)"
   ]
  },
  {
   "cell_type": "code",
   "execution_count": 80,
   "id": "4c9c8cf3-55dd-4984-b48d-1fdf353f73de",
   "metadata": {
    "tags": []
   },
   "outputs": [
    {
     "name": "stdout",
     "output_type": "stream",
     "text": [
      "\n",
      "TOO LONG .... going to make it shorter\n",
      "0 117440\n",
      "\n",
      "TOO LONG .... going to make it shorter\n",
      "8 87841\n",
      "\n",
      "TOO LONG .... going to make it shorter\n",
      "12 81330\n",
      "\n",
      "TOO LONG .... going to make it shorter\n",
      "16 96970\n",
      "\n",
      "TOO LONG .... going to make it shorter\n",
      "24 127113\n",
      "\n",
      "TOO LONG .... going to make it shorter\n",
      "31 128305\n",
      "\n",
      "TOO LONG .... going to make it shorter\n",
      "48 103221\n"
     ]
    }
   ],
   "source": [
    "## Testing if transcripts are to long and then shortening it\n",
    "for i in range(len(transcripts_texts)):    \n",
    "    if (len(transcripts_texts[i]) > 80000):\n",
    "        print()\n",
    "        print('TOO LONG .... going to make it shorter')\n",
    "        print(i, len(transcripts_texts[i]))\n",
    "        transcripts_texts[i] = transcripts_texts[i][:80000]"
   ]
  },
  {
   "cell_type": "code",
   "execution_count": 81,
   "id": "80f88bb6-35b3-4bb3-bf54-86a7482ac128",
   "metadata": {},
   "outputs": [],
   "source": [
    "# Creating a dataframe to save all scores.\n",
    "sentiment_scores = pd.DataFrame(columns=['pos', 'neg', 'unc'])\n",
    "\n",
    "# Loop through all texts \n",
    "for texts in transcripts_texts:\n",
    "    # Calls our scoring function and gets 3 scores back\n",
    "    scores = score_transcript(texts)\n",
    "    \n",
    "    # This creates a new dataframe with one line of 3 scores \n",
    "    # and adds it to the bottom of our dataframe that stores all scores\n",
    "    sentiment_scores = pd.concat([sentiment_scores, pd.DataFrame([np.array(scores)], columns=['pos', 'neg', 'unc'])]).reset_index(drop=True)"
   ]
  },
  {
   "cell_type": "code",
   "execution_count": 82,
   "id": "52df7925-33b4-42a3-8910-212a07594708",
   "metadata": {
    "tags": []
   },
   "outputs": [
    {
     "data": {
      "text/html": [
       "<div>\n",
       "<style scoped>\n",
       "    .dataframe tbody tr th:only-of-type {\n",
       "        vertical-align: middle;\n",
       "    }\n",
       "\n",
       "    .dataframe tbody tr th {\n",
       "        vertical-align: top;\n",
       "    }\n",
       "\n",
       "    .dataframe thead th {\n",
       "        text-align: right;\n",
       "    }\n",
       "</style>\n",
       "<table border=\"1\" class=\"dataframe\">\n",
       "  <thead>\n",
       "    <tr style=\"text-align: right;\">\n",
       "      <th></th>\n",
       "      <th>pos</th>\n",
       "      <th>neg</th>\n",
       "      <th>unc</th>\n",
       "      <th>dates</th>\n",
       "      <th>ticker</th>\n",
       "      <th>fqtr</th>\n",
       "    </tr>\n",
       "  </thead>\n",
       "  <tbody>\n",
       "    <tr>\n",
       "      <th>2006-02-16 23:33:06</th>\n",
       "      <td>0.0422</td>\n",
       "      <td>0.0196</td>\n",
       "      <td>0.0103</td>\n",
       "      <td>2006-02-16 23:33:06</td>\n",
       "      <td>TGT</td>\n",
       "      <td>4</td>\n",
       "    </tr>\n",
       "    <tr>\n",
       "      <th>2006-05-15 18:19:16</th>\n",
       "      <td>0.0350</td>\n",
       "      <td>0.0243</td>\n",
       "      <td>0.0099</td>\n",
       "      <td>2006-05-15 18:19:16</td>\n",
       "      <td>TGT</td>\n",
       "      <td>1</td>\n",
       "    </tr>\n",
       "    <tr>\n",
       "      <th>2006-08-10 18:15:11</th>\n",
       "      <td>0.0396</td>\n",
       "      <td>0.0253</td>\n",
       "      <td>0.0141</td>\n",
       "      <td>2006-08-10 18:15:11</td>\n",
       "      <td>TGT</td>\n",
       "      <td>2</td>\n",
       "    </tr>\n",
       "    <tr>\n",
       "      <th>2006-11-14 22:00:09</th>\n",
       "      <td>0.0388</td>\n",
       "      <td>0.0243</td>\n",
       "      <td>0.0125</td>\n",
       "      <td>2006-11-14 22:00:09</td>\n",
       "      <td>TGT</td>\n",
       "      <td>3</td>\n",
       "    </tr>\n",
       "    <tr>\n",
       "      <th>2007-02-27 21:26:18</th>\n",
       "      <td>0.0442</td>\n",
       "      <td>0.0147</td>\n",
       "      <td>0.0108</td>\n",
       "      <td>2007-02-27 21:26:18</td>\n",
       "      <td>TGT</td>\n",
       "      <td>4</td>\n",
       "    </tr>\n",
       "    <tr>\n",
       "      <th>...</th>\n",
       "      <td>...</td>\n",
       "      <td>...</td>\n",
       "      <td>...</td>\n",
       "      <td>...</td>\n",
       "      <td>...</td>\n",
       "      <td>...</td>\n",
       "    </tr>\n",
       "    <tr>\n",
       "      <th>2020-03-04 00:42:12</th>\n",
       "      <td>0.0486</td>\n",
       "      <td>0.0195</td>\n",
       "      <td>0.0072</td>\n",
       "      <td>2020-03-04 00:42:12</td>\n",
       "      <td>TGT</td>\n",
       "      <td>4</td>\n",
       "    </tr>\n",
       "    <tr>\n",
       "      <th>2020-05-20 19:01:55</th>\n",
       "      <td>0.0367</td>\n",
       "      <td>0.0325</td>\n",
       "      <td>0.0097</td>\n",
       "      <td>2020-05-20 19:01:55</td>\n",
       "      <td>TGT</td>\n",
       "      <td>1</td>\n",
       "    </tr>\n",
       "    <tr>\n",
       "      <th>2020-08-19 17:58:10</th>\n",
       "      <td>0.0416</td>\n",
       "      <td>0.0205</td>\n",
       "      <td>0.0133</td>\n",
       "      <td>2020-08-19 17:58:10</td>\n",
       "      <td>TGT</td>\n",
       "      <td>2</td>\n",
       "    </tr>\n",
       "    <tr>\n",
       "      <th>2020-11-18 18:46:16</th>\n",
       "      <td>0.0428</td>\n",
       "      <td>0.0194</td>\n",
       "      <td>0.0109</td>\n",
       "      <td>2020-11-18 18:46:16</td>\n",
       "      <td>TGT</td>\n",
       "      <td>3</td>\n",
       "    </tr>\n",
       "    <tr>\n",
       "      <th>2021-03-02 21:44:09</th>\n",
       "      <td>0.0412</td>\n",
       "      <td>0.0140</td>\n",
       "      <td>0.0086</td>\n",
       "      <td>2021-03-02 21:44:09</td>\n",
       "      <td>TGT</td>\n",
       "      <td>4</td>\n",
       "    </tr>\n",
       "  </tbody>\n",
       "</table>\n",
       "<p>72 rows × 6 columns</p>\n",
       "</div>"
      ],
      "text/plain": [
       "                        pos     neg     unc               dates ticker  fqtr\n",
       "2006-02-16 23:33:06  0.0422  0.0196  0.0103 2006-02-16 23:33:06    TGT     4\n",
       "2006-05-15 18:19:16  0.0350  0.0243  0.0099 2006-05-15 18:19:16    TGT     1\n",
       "2006-08-10 18:15:11  0.0396  0.0253  0.0141 2006-08-10 18:15:11    TGT     2\n",
       "2006-11-14 22:00:09  0.0388  0.0243  0.0125 2006-11-14 22:00:09    TGT     3\n",
       "2007-02-27 21:26:18  0.0442  0.0147  0.0108 2007-02-27 21:26:18    TGT     4\n",
       "...                     ...     ...     ...                 ...    ...   ...\n",
       "2020-03-04 00:42:12  0.0486  0.0195  0.0072 2020-03-04 00:42:12    TGT     4\n",
       "2020-05-20 19:01:55  0.0367  0.0325  0.0097 2020-05-20 19:01:55    TGT     1\n",
       "2020-08-19 17:58:10  0.0416  0.0205  0.0133 2020-08-19 17:58:10    TGT     2\n",
       "2020-11-18 18:46:16  0.0428  0.0194  0.0109 2020-11-18 18:46:16    TGT     3\n",
       "2021-03-02 21:44:09  0.0412  0.0140  0.0086 2021-03-02 21:44:09    TGT     4\n",
       "\n",
       "[72 rows x 6 columns]"
      ]
     },
     "execution_count": 82,
     "metadata": {},
     "output_type": "execute_result"
    }
   ],
   "source": [
    "sentiment_scores.index = pd.to_datetime(times) # <-- THIS IS WHERE YOU HAVE CHANGE THE LIST OF TIMES\n",
    "\n",
    "# This is new\n",
    "sentiment_scores['dates'] = pd.to_datetime(times) # <-- I've added the dates to enable you to merge on='dates' later on.\n",
    "# add the ticker \n",
    "sentiment_scores['ticker'] = ticker_name\n",
    "\n",
    "sentiment_scores['fqtr'] = fqtr\n",
    "\n",
    "# Lets also reverse the order so that old is first. Makes it easier to merge. \n",
    "# https://stackoverflow.com/a/3940137\n",
    "sentiment_scores = sentiment_scores[::-1]\n",
    "\n",
    "sentiment_scores"
   ]
  },
  {
   "cell_type": "code",
   "execution_count": 83,
   "id": "f40f1115-3fc7-4357-8770-1cbfe82462ec",
   "metadata": {},
   "outputs": [
    {
     "name": "stdout",
     "output_type": "stream",
     "text": [
      "Transcripts for ticker \"TGT\" is analysed and saved as csv\n"
     ]
    }
   ],
   "source": [
    "# save as csv\n",
    "sentiment_scores.to_csv(\"./csv/\"+ticker_name+\".csv\")\n",
    "print(f'Transcripts for ticker \"{ticker_name}\" is analysed and saved as csv')"
   ]
  },
  {
   "cell_type": "markdown",
   "id": "ace9046e-9061-471c-a363-f891d89a29ed",
   "metadata": {},
   "source": [
    "# Section 3 - importing fundamental data from WRDS"
   ]
  },
  {
   "cell_type": "code",
   "execution_count": 4,
   "id": "4659838e-b134-4c9d-8441-35e7d4e6e497",
   "metadata": {},
   "outputs": [
    {
     "name": "stdin",
     "output_type": "stream",
     "text": [
      "Enter your WRDS username [1001150000]: gusborcag\n",
      "Enter your password: ····················\n"
     ]
    },
    {
     "name": "stdout",
     "output_type": "stream",
     "text": [
      "WRDS recommends setting up a .pgpass file.\n"
     ]
    },
    {
     "name": "stdin",
     "output_type": "stream",
     "text": [
      "Create .pgpass file now [y/n]?:  n\n"
     ]
    },
    {
     "name": "stdout",
     "output_type": "stream",
     "text": [
      "You can create this file yourself at any time\n",
      "with the create_pgpass_file() function.\n",
      "Loading library list...\n",
      "Done\n"
     ]
    }
   ],
   "source": [
    "import wrds\n",
    "## Connecting to wrds\n",
    "db = wrds.Connection()carl"
   ]
  },
  {
   "cell_type": "code",
   "execution_count": 5,
   "id": "2650c2d9-728f-4139-a7e5-4973389b91fa",
   "metadata": {},
   "outputs": [
    {
     "data": {
      "text/plain": [
       "['CMCSA', 'DIS', 'MDT', 'SNY', 'INTC', 'MS', 'HON', 'DUK', 'BLK', 'TGT']"
      ]
     },
     "execution_count": 5,
     "metadata": {},
     "output_type": "execute_result"
    }
   ],
   "source": [
    "tickerlist = [x[:-2] for x in tl4]\n",
    "tickerlist"
   ]
  },
  {
   "cell_type": "code",
   "execution_count": 22,
   "id": "edcd339b-1b3b-4933-ac9c-abe28a25a520",
   "metadata": {},
   "outputs": [
    {
     "data": {
      "text/html": [
       "<div>\n",
       "<style scoped>\n",
       "    .dataframe tbody tr th:only-of-type {\n",
       "        vertical-align: middle;\n",
       "    }\n",
       "\n",
       "    .dataframe tbody tr th {\n",
       "        vertical-align: top;\n",
       "    }\n",
       "\n",
       "    .dataframe thead th {\n",
       "        text-align: right;\n",
       "    }\n",
       "</style>\n",
       "<table border=\"1\" class=\"dataframe\">\n",
       "  <thead>\n",
       "    <tr style=\"text-align: right;\">\n",
       "      <th></th>\n",
       "      <th>datadate</th>\n",
       "      <th>fyearq</th>\n",
       "      <th>fqtr</th>\n",
       "      <th>tic</th>\n",
       "      <th>niq</th>\n",
       "    </tr>\n",
       "  </thead>\n",
       "  <tbody>\n",
       "    <tr>\n",
       "      <th>0</th>\n",
       "      <td>2016-09-30</td>\n",
       "      <td>2016.0</td>\n",
       "      <td>3.0</td>\n",
       "      <td>HON</td>\n",
       "      <td>1240.0</td>\n",
       "    </tr>\n",
       "    <tr>\n",
       "      <th>1</th>\n",
       "      <td>2017-09-30</td>\n",
       "      <td>2017.0</td>\n",
       "      <td>3.0</td>\n",
       "      <td>HON</td>\n",
       "      <td>1346.0</td>\n",
       "    </tr>\n",
       "    <tr>\n",
       "      <th>2</th>\n",
       "      <td>2018-09-30</td>\n",
       "      <td>2018.0</td>\n",
       "      <td>3.0</td>\n",
       "      <td>HON</td>\n",
       "      <td>2339.0</td>\n",
       "    </tr>\n",
       "    <tr>\n",
       "      <th>3</th>\n",
       "      <td>2005-03-31</td>\n",
       "      <td>2005.0</td>\n",
       "      <td>1.0</td>\n",
       "      <td>HON</td>\n",
       "      <td>358.0</td>\n",
       "    </tr>\n",
       "    <tr>\n",
       "      <th>4</th>\n",
       "      <td>2005-06-30</td>\n",
       "      <td>2005.0</td>\n",
       "      <td>2.0</td>\n",
       "      <td>HON</td>\n",
       "      <td>302.0</td>\n",
       "    </tr>\n",
       "    <tr>\n",
       "      <th>...</th>\n",
       "      <td>...</td>\n",
       "      <td>...</td>\n",
       "      <td>...</td>\n",
       "      <td>...</td>\n",
       "      <td>...</td>\n",
       "    </tr>\n",
       "    <tr>\n",
       "      <th>659</th>\n",
       "      <td>2020-09-30</td>\n",
       "      <td>2020.0</td>\n",
       "      <td>3.0</td>\n",
       "      <td>BLK</td>\n",
       "      <td>1364.0</td>\n",
       "    </tr>\n",
       "    <tr>\n",
       "      <th>660</th>\n",
       "      <td>2020-12-31</td>\n",
       "      <td>2020.0</td>\n",
       "      <td>4.0</td>\n",
       "      <td>BLK</td>\n",
       "      <td>1548.0</td>\n",
       "    </tr>\n",
       "    <tr>\n",
       "      <th>661</th>\n",
       "      <td>2021-03-31</td>\n",
       "      <td>2021.0</td>\n",
       "      <td>1.0</td>\n",
       "      <td>BLK</td>\n",
       "      <td>1199.0</td>\n",
       "    </tr>\n",
       "    <tr>\n",
       "      <th>662</th>\n",
       "      <td>2021-06-30</td>\n",
       "      <td>2021.0</td>\n",
       "      <td>2.0</td>\n",
       "      <td>BLK</td>\n",
       "      <td>1378.0</td>\n",
       "    </tr>\n",
       "    <tr>\n",
       "      <th>663</th>\n",
       "      <td>2021-09-30</td>\n",
       "      <td>2021.0</td>\n",
       "      <td>3.0</td>\n",
       "      <td>BLK</td>\n",
       "      <td>1681.0</td>\n",
       "    </tr>\n",
       "  </tbody>\n",
       "</table>\n",
       "<p>664 rows × 5 columns</p>\n",
       "</div>"
      ],
      "text/plain": [
       "      datadate  fyearq  fqtr  tic     niq\n",
       "0   2016-09-30  2016.0   3.0  HON  1240.0\n",
       "1   2017-09-30  2017.0   3.0  HON  1346.0\n",
       "2   2018-09-30  2018.0   3.0  HON  2339.0\n",
       "3   2005-03-31  2005.0   1.0  HON   358.0\n",
       "4   2005-06-30  2005.0   2.0  HON   302.0\n",
       "..         ...     ...   ...  ...     ...\n",
       "659 2020-09-30  2020.0   3.0  BLK  1364.0\n",
       "660 2020-12-31  2020.0   4.0  BLK  1548.0\n",
       "661 2021-03-31  2021.0   1.0  BLK  1199.0\n",
       "662 2021-06-30  2021.0   2.0  BLK  1378.0\n",
       "663 2021-09-30  2021.0   3.0  BLK  1681.0\n",
       "\n",
       "[664 rows x 5 columns]"
      ]
     },
     "execution_count": 22,
     "metadata": {},
     "output_type": "execute_result"
    }
   ],
   "source": [
    "### niq = net income quarterly\n",
    "fundq = db.raw_sql(\"\"\"select datadate, fyearq, fqtr, tic, niq \n",
    "                        \n",
    "                        from comp.fundq\n",
    "                        \n",
    "                        where tic = 'CMCSA'\n",
    "                        and datadate>='01/01/2005'\n",
    "                        \n",
    "                        or tic = 'DIS'\n",
    "                        and datadate>='01/01/2005'\n",
    "                        \n",
    "                        or tic = 'MDT'\n",
    "                        and datadate>='01/01/2005'\n",
    "                        \n",
    "                        or tic = 'SNY'\n",
    "                        and datadate>='01/01/2005'\n",
    "                        \n",
    "                        or tic = 'INTC'\n",
    "                        and datadate>='01/01/2005'\n",
    "                        \n",
    "                        or tic = 'MS'\n",
    "                        and datadate>='01/01/2005'\n",
    "                        \n",
    "                        or tic = 'HON'\n",
    "                        and datadate>='01/01/2005'\n",
    "                        \n",
    "                        or tic = 'DUK'\n",
    "                        and datadate>='01/01/2005'\n",
    "                        \n",
    "                        or tic = 'BLK'\n",
    "                        and datadate>='01/01/2005'\n",
    "                        \n",
    "                        or tic = 'TGT'\n",
    "                        and datadate>='01/01/2005'\"\"\",\n",
    "                   \n",
    "                     date_cols=['datadate'])\n",
    "\n",
    "fundq"
   ]
  },
  {
   "cell_type": "code",
   "execution_count": 23,
   "id": "745a54fd-eb3b-4f2e-90a4-ce607131e4c6",
   "metadata": {},
   "outputs": [
    {
     "data": {
      "text/plain": [
       "array(['HON', 'CMCSA', 'TGT', 'DIS', 'DUK', 'INTC', 'MDT', 'MS', 'SNY',\n",
       "       'BLK'], dtype=object)"
      ]
     },
     "execution_count": 23,
     "metadata": {},
     "output_type": "execute_result"
    }
   ],
   "source": [
    "fundq.tic.unique()"
   ]
  },
  {
   "cell_type": "code",
   "execution_count": 24,
   "id": "d1dff853-e532-4ba4-b748-97407f20a869",
   "metadata": {},
   "outputs": [],
   "source": [
    "## no decimals for quarter and year\n",
    "fundq['fyearq'] = fundq['fyearq'].astype(int)\n",
    "fundq['fqtr'] = fundq['fqtr'].astype(int)"
   ]
  },
  {
   "cell_type": "code",
   "execution_count": 25,
   "id": "f170b851-d285-4259-bc6d-3f37c6d6ec9c",
   "metadata": {},
   "outputs": [
    {
     "data": {
      "text/html": [
       "<div>\n",
       "<style scoped>\n",
       "    .dataframe tbody tr th:only-of-type {\n",
       "        vertical-align: middle;\n",
       "    }\n",
       "\n",
       "    .dataframe tbody tr th {\n",
       "        vertical-align: top;\n",
       "    }\n",
       "\n",
       "    .dataframe thead th {\n",
       "        text-align: right;\n",
       "    }\n",
       "</style>\n",
       "<table border=\"1\" class=\"dataframe\">\n",
       "  <thead>\n",
       "    <tr style=\"text-align: right;\">\n",
       "      <th></th>\n",
       "      <th>datadate</th>\n",
       "      <th>fyearq</th>\n",
       "      <th>fqtr</th>\n",
       "      <th>tic</th>\n",
       "      <th>niq</th>\n",
       "    </tr>\n",
       "  </thead>\n",
       "  <tbody>\n",
       "    <tr>\n",
       "      <th>0</th>\n",
       "      <td>2016-09-30</td>\n",
       "      <td>2016</td>\n",
       "      <td>3</td>\n",
       "      <td>HON</td>\n",
       "      <td>1240.0</td>\n",
       "    </tr>\n",
       "    <tr>\n",
       "      <th>1</th>\n",
       "      <td>2017-09-30</td>\n",
       "      <td>2017</td>\n",
       "      <td>3</td>\n",
       "      <td>HON</td>\n",
       "      <td>1346.0</td>\n",
       "    </tr>\n",
       "    <tr>\n",
       "      <th>2</th>\n",
       "      <td>2018-09-30</td>\n",
       "      <td>2018</td>\n",
       "      <td>3</td>\n",
       "      <td>HON</td>\n",
       "      <td>2339.0</td>\n",
       "    </tr>\n",
       "    <tr>\n",
       "      <th>3</th>\n",
       "      <td>2005-03-31</td>\n",
       "      <td>2005</td>\n",
       "      <td>1</td>\n",
       "      <td>HON</td>\n",
       "      <td>358.0</td>\n",
       "    </tr>\n",
       "    <tr>\n",
       "      <th>4</th>\n",
       "      <td>2005-06-30</td>\n",
       "      <td>2005</td>\n",
       "      <td>2</td>\n",
       "      <td>HON</td>\n",
       "      <td>302.0</td>\n",
       "    </tr>\n",
       "    <tr>\n",
       "      <th>...</th>\n",
       "      <td>...</td>\n",
       "      <td>...</td>\n",
       "      <td>...</td>\n",
       "      <td>...</td>\n",
       "      <td>...</td>\n",
       "    </tr>\n",
       "    <tr>\n",
       "      <th>659</th>\n",
       "      <td>2020-09-30</td>\n",
       "      <td>2020</td>\n",
       "      <td>3</td>\n",
       "      <td>BLK</td>\n",
       "      <td>1364.0</td>\n",
       "    </tr>\n",
       "    <tr>\n",
       "      <th>660</th>\n",
       "      <td>2020-12-31</td>\n",
       "      <td>2020</td>\n",
       "      <td>4</td>\n",
       "      <td>BLK</td>\n",
       "      <td>1548.0</td>\n",
       "    </tr>\n",
       "    <tr>\n",
       "      <th>661</th>\n",
       "      <td>2021-03-31</td>\n",
       "      <td>2021</td>\n",
       "      <td>1</td>\n",
       "      <td>BLK</td>\n",
       "      <td>1199.0</td>\n",
       "    </tr>\n",
       "    <tr>\n",
       "      <th>662</th>\n",
       "      <td>2021-06-30</td>\n",
       "      <td>2021</td>\n",
       "      <td>2</td>\n",
       "      <td>BLK</td>\n",
       "      <td>1378.0</td>\n",
       "    </tr>\n",
       "    <tr>\n",
       "      <th>663</th>\n",
       "      <td>2021-09-30</td>\n",
       "      <td>2021</td>\n",
       "      <td>3</td>\n",
       "      <td>BLK</td>\n",
       "      <td>1681.0</td>\n",
       "    </tr>\n",
       "  </tbody>\n",
       "</table>\n",
       "<p>664 rows × 5 columns</p>\n",
       "</div>"
      ],
      "text/plain": [
       "      datadate  fyearq  fqtr  tic     niq\n",
       "0   2016-09-30    2016     3  HON  1240.0\n",
       "1   2017-09-30    2017     3  HON  1346.0\n",
       "2   2018-09-30    2018     3  HON  2339.0\n",
       "3   2005-03-31    2005     1  HON   358.0\n",
       "4   2005-06-30    2005     2  HON   302.0\n",
       "..         ...     ...   ...  ...     ...\n",
       "659 2020-09-30    2020     3  BLK  1364.0\n",
       "660 2020-12-31    2020     4  BLK  1548.0\n",
       "661 2021-03-31    2021     1  BLK  1199.0\n",
       "662 2021-06-30    2021     2  BLK  1378.0\n",
       "663 2021-09-30    2021     3  BLK  1681.0\n",
       "\n",
       "[664 rows x 5 columns]"
      ]
     },
     "execution_count": 25,
     "metadata": {},
     "output_type": "execute_result"
    }
   ],
   "source": [
    "fundq"
   ]
  },
  {
   "cell_type": "markdown",
   "id": "5b7325a1-9b4f-4b2d-b7b2-e99ab3c5f00f",
   "metadata": {},
   "source": [
    "# Section 4 -  Loading CSVs to one dataframe"
   ]
  },
  {
   "cell_type": "code",
   "execution_count": 13,
   "id": "1b064fdb-a966-42e8-a2b0-d61eae1e570e",
   "metadata": {},
   "outputs": [],
   "source": [
    "## Loading all csvs to one data frame\n",
    "# https://stackoverflow.com/questions/20906474/import-multiple-csv-files-into-pandas-and-concatenate-into-one-dataframe\n",
    "import glob\n",
    "\n",
    "path = r\"./csv/\"\n",
    "all_files = glob.glob(path + \"/*.csv\")\n",
    "\n",
    "li = []\n",
    "\n",
    "for filename in all_files:\n",
    "    df = pd.read_csv(filename, index_col=None, header=0)\n",
    "    li.append(df)\n",
    "\n",
    "sentimentdf = pd.concat(li, axis=0, ignore_index=True)"
   ]
  },
  {
   "cell_type": "code",
   "execution_count": 14,
   "id": "0c13422f-f78e-4576-9282-42493f28db09",
   "metadata": {},
   "outputs": [
    {
     "data": {
      "text/html": [
       "<div>\n",
       "<style scoped>\n",
       "    .dataframe tbody tr th:only-of-type {\n",
       "        vertical-align: middle;\n",
       "    }\n",
       "\n",
       "    .dataframe tbody tr th {\n",
       "        vertical-align: top;\n",
       "    }\n",
       "\n",
       "    .dataframe thead th {\n",
       "        text-align: right;\n",
       "    }\n",
       "</style>\n",
       "<table border=\"1\" class=\"dataframe\">\n",
       "  <thead>\n",
       "    <tr style=\"text-align: right;\">\n",
       "      <th></th>\n",
       "      <th>Unnamed: 0</th>\n",
       "      <th>pos</th>\n",
       "      <th>neg</th>\n",
       "      <th>unc</th>\n",
       "      <th>dates</th>\n",
       "      <th>ticker</th>\n",
       "      <th>fqtr</th>\n",
       "    </tr>\n",
       "  </thead>\n",
       "  <tbody>\n",
       "    <tr>\n",
       "      <th>0</th>\n",
       "      <td>2007-08-22 00:05:43</td>\n",
       "      <td>0.0384</td>\n",
       "      <td>0.0219</td>\n",
       "      <td>0.0214</td>\n",
       "      <td>2007-08-22 00:05:43</td>\n",
       "      <td>MDT</td>\n",
       "      <td>1</td>\n",
       "    </tr>\n",
       "    <tr>\n",
       "      <th>1</th>\n",
       "      <td>2008-02-19 19:47:11</td>\n",
       "      <td>0.0373</td>\n",
       "      <td>0.0257</td>\n",
       "      <td>0.0103</td>\n",
       "      <td>2008-02-19 19:47:11</td>\n",
       "      <td>MDT</td>\n",
       "      <td>3</td>\n",
       "    </tr>\n",
       "    <tr>\n",
       "      <th>2</th>\n",
       "      <td>2008-05-20 20:10:11</td>\n",
       "      <td>0.0487</td>\n",
       "      <td>0.0253</td>\n",
       "      <td>0.0150</td>\n",
       "      <td>2008-05-20 20:10:11</td>\n",
       "      <td>MDT</td>\n",
       "      <td>4</td>\n",
       "    </tr>\n",
       "    <tr>\n",
       "      <th>3</th>\n",
       "      <td>2008-08-19 18:16:28</td>\n",
       "      <td>0.0463</td>\n",
       "      <td>0.0171</td>\n",
       "      <td>0.0120</td>\n",
       "      <td>2008-08-19 18:16:28</td>\n",
       "      <td>MDT</td>\n",
       "      <td>1</td>\n",
       "    </tr>\n",
       "    <tr>\n",
       "      <th>4</th>\n",
       "      <td>2009-02-17 19:11:28</td>\n",
       "      <td>0.0463</td>\n",
       "      <td>0.0247</td>\n",
       "      <td>0.0128</td>\n",
       "      <td>2009-02-17 19:11:28</td>\n",
       "      <td>MDT</td>\n",
       "      <td>3</td>\n",
       "    </tr>\n",
       "    <tr>\n",
       "      <th>...</th>\n",
       "      <td>...</td>\n",
       "      <td>...</td>\n",
       "      <td>...</td>\n",
       "      <td>...</td>\n",
       "      <td>...</td>\n",
       "      <td>...</td>\n",
       "      <td>...</td>\n",
       "    </tr>\n",
       "    <tr>\n",
       "      <th>708</th>\n",
       "      <td>2020-02-05 04:09:43</td>\n",
       "      <td>0.0293</td>\n",
       "      <td>0.0239</td>\n",
       "      <td>0.0152</td>\n",
       "      <td>2020-02-05 04:09:43</td>\n",
       "      <td>DIS</td>\n",
       "      <td>1</td>\n",
       "    </tr>\n",
       "    <tr>\n",
       "      <th>709</th>\n",
       "      <td>2020-05-06 04:59:34</td>\n",
       "      <td>0.0209</td>\n",
       "      <td>0.0483</td>\n",
       "      <td>0.0162</td>\n",
       "      <td>2020-05-06 04:59:34</td>\n",
       "      <td>DIS</td>\n",
       "      <td>2</td>\n",
       "    </tr>\n",
       "    <tr>\n",
       "      <th>710</th>\n",
       "      <td>2020-08-05 03:43:07</td>\n",
       "      <td>0.0441</td>\n",
       "      <td>0.0337</td>\n",
       "      <td>0.0136</td>\n",
       "      <td>2020-08-05 03:43:07</td>\n",
       "      <td>DIS</td>\n",
       "      <td>3</td>\n",
       "    </tr>\n",
       "    <tr>\n",
       "      <th>711</th>\n",
       "      <td>2020-11-13 02:39:12</td>\n",
       "      <td>0.0412</td>\n",
       "      <td>0.0339</td>\n",
       "      <td>0.0139</td>\n",
       "      <td>2020-11-13 02:39:12</td>\n",
       "      <td>DIS</td>\n",
       "      <td>4</td>\n",
       "    </tr>\n",
       "    <tr>\n",
       "      <th>712</th>\n",
       "      <td>2021-02-12 03:38:13</td>\n",
       "      <td>0.0359</td>\n",
       "      <td>0.0240</td>\n",
       "      <td>0.0173</td>\n",
       "      <td>2021-02-12 03:38:13</td>\n",
       "      <td>DIS</td>\n",
       "      <td>1</td>\n",
       "    </tr>\n",
       "  </tbody>\n",
       "</table>\n",
       "<p>713 rows × 7 columns</p>\n",
       "</div>"
      ],
      "text/plain": [
       "              Unnamed: 0     pos     neg     unc                dates ticker  \\\n",
       "0    2007-08-22 00:05:43  0.0384  0.0219  0.0214  2007-08-22 00:05:43    MDT   \n",
       "1    2008-02-19 19:47:11  0.0373  0.0257  0.0103  2008-02-19 19:47:11    MDT   \n",
       "2    2008-05-20 20:10:11  0.0487  0.0253  0.0150  2008-05-20 20:10:11    MDT   \n",
       "3    2008-08-19 18:16:28  0.0463  0.0171  0.0120  2008-08-19 18:16:28    MDT   \n",
       "4    2009-02-17 19:11:28  0.0463  0.0247  0.0128  2009-02-17 19:11:28    MDT   \n",
       "..                   ...     ...     ...     ...                  ...    ...   \n",
       "708  2020-02-05 04:09:43  0.0293  0.0239  0.0152  2020-02-05 04:09:43    DIS   \n",
       "709  2020-05-06 04:59:34  0.0209  0.0483  0.0162  2020-05-06 04:59:34    DIS   \n",
       "710  2020-08-05 03:43:07  0.0441  0.0337  0.0136  2020-08-05 03:43:07    DIS   \n",
       "711  2020-11-13 02:39:12  0.0412  0.0339  0.0139  2020-11-13 02:39:12    DIS   \n",
       "712  2021-02-12 03:38:13  0.0359  0.0240  0.0173  2021-02-12 03:38:13    DIS   \n",
       "\n",
       "     fqtr  \n",
       "0       1  \n",
       "1       3  \n",
       "2       4  \n",
       "3       1  \n",
       "4       3  \n",
       "..    ...  \n",
       "708     1  \n",
       "709     2  \n",
       "710     3  \n",
       "711     4  \n",
       "712     1  \n",
       "\n",
       "[713 rows x 7 columns]"
      ]
     },
     "execution_count": 14,
     "metadata": {},
     "output_type": "execute_result"
    }
   ],
   "source": [
    "sentimentdf"
   ]
  },
  {
   "cell_type": "code",
   "execution_count": 15,
   "id": "6e57976a-f5dc-45fd-ab43-3bf5e65f617a",
   "metadata": {},
   "outputs": [],
   "source": [
    "## adding a year column\n",
    "sentimentdf['fyearq'] = [str(x)[0:4] for x in sentimentdf['dates']]"
   ]
  },
  {
   "cell_type": "code",
   "execution_count": 16,
   "id": "29a27a0e-4714-4f7d-92d8-d2a69914fcfa",
   "metadata": {},
   "outputs": [],
   "source": [
    "## preparing for merge\n",
    "sentimentdf['fyearq'] = sentimentdf['fyearq'].astype(int)\n",
    "sentimentdf.rename(columns={'ticker': 'tic'}, inplace=True)"
   ]
  },
  {
   "cell_type": "markdown",
   "id": "02bc58d1-ca15-4e56-ab88-5f9bdc2ca29a",
   "metadata": {},
   "source": [
    "# Section 5 - Merging dataframes"
   ]
  },
  {
   "cell_type": "code",
   "execution_count": 26,
   "id": "1699a355-e10a-439a-bd9b-11746dc63c73",
   "metadata": {},
   "outputs": [],
   "source": [
    "## merging dataframes\n",
    "dfmerged= pd.merge(sentimentdf, fundq)"
   ]
  },
  {
   "cell_type": "code",
   "execution_count": 27,
   "id": "a15625d2-1153-4fb1-86fe-c4765709639a",
   "metadata": {},
   "outputs": [],
   "source": [
    "### Sorting data in the right order\n",
    "dfmerged.sort_values(by=['tic','fyearq','fqtr'], inplace=True,\n",
    "               ascending = [True, True, True])"
   ]
  },
  {
   "cell_type": "code",
   "execution_count": 28,
   "id": "2a8d86ec-47bc-487e-a882-c12d06dc1493",
   "metadata": {},
   "outputs": [],
   "source": [
    "# Reset index\n",
    "dfmerged.reset_index(drop=True, inplace=True)"
   ]
  },
  {
   "cell_type": "code",
   "execution_count": 29,
   "id": "a6111ed7-c038-4cf2-9039-c223c239f815",
   "metadata": {},
   "outputs": [],
   "source": [
    "# Dropping unneccesary columns\n",
    "dfmerged = dfmerged.drop(columns=['dates', 'datadate', 'Unnamed: 0'])"
   ]
  },
  {
   "cell_type": "code",
   "execution_count": 30,
   "id": "91d14159-46bc-47fa-9df3-c102c7f124f6",
   "metadata": {},
   "outputs": [
    {
     "data": {
      "text/html": [
       "<div>\n",
       "<style scoped>\n",
       "    .dataframe tbody tr th:only-of-type {\n",
       "        vertical-align: middle;\n",
       "    }\n",
       "\n",
       "    .dataframe tbody tr th {\n",
       "        vertical-align: top;\n",
       "    }\n",
       "\n",
       "    .dataframe thead th {\n",
       "        text-align: right;\n",
       "    }\n",
       "</style>\n",
       "<table border=\"1\" class=\"dataframe\">\n",
       "  <thead>\n",
       "    <tr style=\"text-align: right;\">\n",
       "      <th></th>\n",
       "      <th>pos</th>\n",
       "      <th>neg</th>\n",
       "      <th>unc</th>\n",
       "      <th>tic</th>\n",
       "      <th>fqtr</th>\n",
       "      <th>fyearq</th>\n",
       "      <th>niq</th>\n",
       "    </tr>\n",
       "  </thead>\n",
       "  <tbody>\n",
       "    <tr>\n",
       "      <th>0</th>\n",
       "      <td>0.0405</td>\n",
       "      <td>0.0294</td>\n",
       "      <td>0.0230</td>\n",
       "      <td>BLK</td>\n",
       "      <td>3</td>\n",
       "      <td>2007</td>\n",
       "      <td>255.200</td>\n",
       "    </tr>\n",
       "    <tr>\n",
       "      <th>1</th>\n",
       "      <td>0.0369</td>\n",
       "      <td>0.0302</td>\n",
       "      <td>0.0272</td>\n",
       "      <td>BLK</td>\n",
       "      <td>1</td>\n",
       "      <td>2008</td>\n",
       "      <td>241.671</td>\n",
       "    </tr>\n",
       "    <tr>\n",
       "      <th>2</th>\n",
       "      <td>0.0368</td>\n",
       "      <td>0.0325</td>\n",
       "      <td>0.0244</td>\n",
       "      <td>BLK</td>\n",
       "      <td>2</td>\n",
       "      <td>2008</td>\n",
       "      <td>274.058</td>\n",
       "    </tr>\n",
       "    <tr>\n",
       "      <th>3</th>\n",
       "      <td>0.0391</td>\n",
       "      <td>0.0359</td>\n",
       "      <td>0.0296</td>\n",
       "      <td>BLK</td>\n",
       "      <td>3</td>\n",
       "      <td>2008</td>\n",
       "      <td>217.726</td>\n",
       "    </tr>\n",
       "    <tr>\n",
       "      <th>4</th>\n",
       "      <td>0.0391</td>\n",
       "      <td>0.0260</td>\n",
       "      <td>0.0235</td>\n",
       "      <td>BLK</td>\n",
       "      <td>4</td>\n",
       "      <td>2008</td>\n",
       "      <td>52.545</td>\n",
       "    </tr>\n",
       "    <tr>\n",
       "      <th>...</th>\n",
       "      <td>...</td>\n",
       "      <td>...</td>\n",
       "      <td>...</td>\n",
       "      <td>...</td>\n",
       "      <td>...</td>\n",
       "      <td>...</td>\n",
       "      <td>...</td>\n",
       "    </tr>\n",
       "    <tr>\n",
       "      <th>540</th>\n",
       "      <td>0.0512</td>\n",
       "      <td>0.0097</td>\n",
       "      <td>0.0057</td>\n",
       "      <td>TGT</td>\n",
       "      <td>4</td>\n",
       "      <td>2019</td>\n",
       "      <td>834.000</td>\n",
       "    </tr>\n",
       "    <tr>\n",
       "      <th>541</th>\n",
       "      <td>0.0367</td>\n",
       "      <td>0.0325</td>\n",
       "      <td>0.0097</td>\n",
       "      <td>TGT</td>\n",
       "      <td>1</td>\n",
       "      <td>2020</td>\n",
       "      <td>284.000</td>\n",
       "    </tr>\n",
       "    <tr>\n",
       "      <th>542</th>\n",
       "      <td>0.0416</td>\n",
       "      <td>0.0205</td>\n",
       "      <td>0.0133</td>\n",
       "      <td>TGT</td>\n",
       "      <td>2</td>\n",
       "      <td>2020</td>\n",
       "      <td>1690.000</td>\n",
       "    </tr>\n",
       "    <tr>\n",
       "      <th>543</th>\n",
       "      <td>0.0428</td>\n",
       "      <td>0.0194</td>\n",
       "      <td>0.0109</td>\n",
       "      <td>TGT</td>\n",
       "      <td>3</td>\n",
       "      <td>2020</td>\n",
       "      <td>1014.000</td>\n",
       "    </tr>\n",
       "    <tr>\n",
       "      <th>544</th>\n",
       "      <td>0.0486</td>\n",
       "      <td>0.0195</td>\n",
       "      <td>0.0072</td>\n",
       "      <td>TGT</td>\n",
       "      <td>4</td>\n",
       "      <td>2020</td>\n",
       "      <td>1380.000</td>\n",
       "    </tr>\n",
       "  </tbody>\n",
       "</table>\n",
       "<p>545 rows × 7 columns</p>\n",
       "</div>"
      ],
      "text/plain": [
       "        pos     neg     unc  tic  fqtr  fyearq       niq\n",
       "0    0.0405  0.0294  0.0230  BLK     3    2007   255.200\n",
       "1    0.0369  0.0302  0.0272  BLK     1    2008   241.671\n",
       "2    0.0368  0.0325  0.0244  BLK     2    2008   274.058\n",
       "3    0.0391  0.0359  0.0296  BLK     3    2008   217.726\n",
       "4    0.0391  0.0260  0.0235  BLK     4    2008    52.545\n",
       "..      ...     ...     ...  ...   ...     ...       ...\n",
       "540  0.0512  0.0097  0.0057  TGT     4    2019   834.000\n",
       "541  0.0367  0.0325  0.0097  TGT     1    2020   284.000\n",
       "542  0.0416  0.0205  0.0133  TGT     2    2020  1690.000\n",
       "543  0.0428  0.0194  0.0109  TGT     3    2020  1014.000\n",
       "544  0.0486  0.0195  0.0072  TGT     4    2020  1380.000\n",
       "\n",
       "[545 rows x 7 columns]"
      ]
     },
     "execution_count": 30,
     "metadata": {},
     "output_type": "execute_result"
    }
   ],
   "source": [
    "dfmerged"
   ]
  },
  {
   "cell_type": "code",
   "execution_count": 32,
   "id": "b3e583a3-abdb-4923-b56e-57a9ac002249",
   "metadata": {},
   "outputs": [
    {
     "ename": "KeyError",
     "evalue": "'tic,fyearq'",
     "output_type": "error",
     "traceback": [
      "\u001b[0;31m---------------------------------------------------------------------------\u001b[0m",
      "\u001b[0;31mKeyError\u001b[0m                                  Traceback (most recent call last)",
      "\u001b[0;32m/tmp/ipykernel_451/3393308050.py\u001b[0m in \u001b[0;36m<module>\u001b[0;34m\u001b[0m\n\u001b[1;32m      1\u001b[0m \u001b[0mdfmerged\u001b[0m\u001b[0;34m[\u001b[0m\u001b[0;34m'revgrowth_QQ'\u001b[0m\u001b[0;34m]\u001b[0m \u001b[0;34m=\u001b[0m\u001b[0;31m \u001b[0m\u001b[0;31m\\\u001b[0m\u001b[0;34m\u001b[0m\u001b[0;34m\u001b[0m\u001b[0m\n\u001b[0;32m----> 2\u001b[0;31m              \u001b[0mdfmerged\u001b[0m\u001b[0;34m.\u001b[0m\u001b[0msort_values\u001b[0m\u001b[0;34m(\u001b[0m\u001b[0;34m[\u001b[0m\u001b[0;34m'tic,'\u001b[0m\u001b[0;34m'fyearq'\u001b[0m\u001b[0;34m,\u001b[0m\u001b[0;34m'fqtr'\u001b[0m\u001b[0;34m]\u001b[0m\u001b[0;34m)\u001b[0m\u001b[0;34m.\u001b[0m\u001b[0mgroupby\u001b[0m\u001b[0;34m(\u001b[0m\u001b[0;34m[\u001b[0m\u001b[0;34m'tic'\u001b[0m\u001b[0;34m,\u001b[0m\u001b[0;34m'year'\u001b[0m\u001b[0;34m,\u001b[0m\u001b[0;34m'fqtr'\u001b[0m\u001b[0;34m]\u001b[0m\u001b[0;34m)\u001b[0m\u001b[0;34m[\u001b[0m\u001b[0;34m'niq'\u001b[0m\u001b[0;34m]\u001b[0m\u001b[0;34m.\u001b[0m\u001b[0mdiff\u001b[0m\u001b[0;34m(\u001b[0m\u001b[0;34m)\u001b[0m\u001b[0;34m\u001b[0m\u001b[0;34m\u001b[0m\u001b[0m\n\u001b[0m",
      "\u001b[0;32m~/.local/lib/python3.8/site-packages/pandas/util/_decorators.py\u001b[0m in \u001b[0;36mwrapper\u001b[0;34m(*args, **kwargs)\u001b[0m\n\u001b[1;32m    309\u001b[0m                     \u001b[0mstacklevel\u001b[0m\u001b[0;34m=\u001b[0m\u001b[0mstacklevel\u001b[0m\u001b[0;34m,\u001b[0m\u001b[0;34m\u001b[0m\u001b[0;34m\u001b[0m\u001b[0m\n\u001b[1;32m    310\u001b[0m                 )\n\u001b[0;32m--> 311\u001b[0;31m             \u001b[0;32mreturn\u001b[0m \u001b[0mfunc\u001b[0m\u001b[0;34m(\u001b[0m\u001b[0;34m*\u001b[0m\u001b[0margs\u001b[0m\u001b[0;34m,\u001b[0m \u001b[0;34m**\u001b[0m\u001b[0mkwargs\u001b[0m\u001b[0;34m)\u001b[0m\u001b[0;34m\u001b[0m\u001b[0;34m\u001b[0m\u001b[0m\n\u001b[0m\u001b[1;32m    312\u001b[0m \u001b[0;34m\u001b[0m\u001b[0m\n\u001b[1;32m    313\u001b[0m         \u001b[0;32mreturn\u001b[0m \u001b[0mwrapper\u001b[0m\u001b[0;34m\u001b[0m\u001b[0;34m\u001b[0m\u001b[0m\n",
      "\u001b[0;32m~/.local/lib/python3.8/site-packages/pandas/core/frame.py\u001b[0m in \u001b[0;36msort_values\u001b[0;34m(self, by, axis, ascending, inplace, kind, na_position, ignore_index, key)\u001b[0m\n\u001b[1;32m   6240\u001b[0m         \u001b[0;32mif\u001b[0m \u001b[0mlen\u001b[0m\u001b[0;34m(\u001b[0m\u001b[0mby\u001b[0m\u001b[0;34m)\u001b[0m \u001b[0;34m>\u001b[0m \u001b[0;36m1\u001b[0m\u001b[0;34m:\u001b[0m\u001b[0;34m\u001b[0m\u001b[0;34m\u001b[0m\u001b[0m\n\u001b[1;32m   6241\u001b[0m \u001b[0;34m\u001b[0m\u001b[0m\n\u001b[0;32m-> 6242\u001b[0;31m             \u001b[0mkeys\u001b[0m \u001b[0;34m=\u001b[0m \u001b[0;34m[\u001b[0m\u001b[0mself\u001b[0m\u001b[0;34m.\u001b[0m\u001b[0m_get_label_or_level_values\u001b[0m\u001b[0;34m(\u001b[0m\u001b[0mx\u001b[0m\u001b[0;34m,\u001b[0m \u001b[0maxis\u001b[0m\u001b[0;34m=\u001b[0m\u001b[0maxis\u001b[0m\u001b[0;34m)\u001b[0m \u001b[0;32mfor\u001b[0m \u001b[0mx\u001b[0m \u001b[0;32min\u001b[0m \u001b[0mby\u001b[0m\u001b[0;34m]\u001b[0m\u001b[0;34m\u001b[0m\u001b[0;34m\u001b[0m\u001b[0m\n\u001b[0m\u001b[1;32m   6243\u001b[0m \u001b[0;34m\u001b[0m\u001b[0m\n\u001b[1;32m   6244\u001b[0m             \u001b[0;31m# need to rewrap columns in Series to apply key function\u001b[0m\u001b[0;34m\u001b[0m\u001b[0;34m\u001b[0m\u001b[0;34m\u001b[0m\u001b[0m\n",
      "\u001b[0;32m~/.local/lib/python3.8/site-packages/pandas/core/frame.py\u001b[0m in \u001b[0;36m<listcomp>\u001b[0;34m(.0)\u001b[0m\n\u001b[1;32m   6240\u001b[0m         \u001b[0;32mif\u001b[0m \u001b[0mlen\u001b[0m\u001b[0;34m(\u001b[0m\u001b[0mby\u001b[0m\u001b[0;34m)\u001b[0m \u001b[0;34m>\u001b[0m \u001b[0;36m1\u001b[0m\u001b[0;34m:\u001b[0m\u001b[0;34m\u001b[0m\u001b[0;34m\u001b[0m\u001b[0m\n\u001b[1;32m   6241\u001b[0m \u001b[0;34m\u001b[0m\u001b[0m\n\u001b[0;32m-> 6242\u001b[0;31m             \u001b[0mkeys\u001b[0m \u001b[0;34m=\u001b[0m \u001b[0;34m[\u001b[0m\u001b[0mself\u001b[0m\u001b[0;34m.\u001b[0m\u001b[0m_get_label_or_level_values\u001b[0m\u001b[0;34m(\u001b[0m\u001b[0mx\u001b[0m\u001b[0;34m,\u001b[0m \u001b[0maxis\u001b[0m\u001b[0;34m=\u001b[0m\u001b[0maxis\u001b[0m\u001b[0;34m)\u001b[0m \u001b[0;32mfor\u001b[0m \u001b[0mx\u001b[0m \u001b[0;32min\u001b[0m \u001b[0mby\u001b[0m\u001b[0;34m]\u001b[0m\u001b[0;34m\u001b[0m\u001b[0;34m\u001b[0m\u001b[0m\n\u001b[0m\u001b[1;32m   6243\u001b[0m \u001b[0;34m\u001b[0m\u001b[0m\n\u001b[1;32m   6244\u001b[0m             \u001b[0;31m# need to rewrap columns in Series to apply key function\u001b[0m\u001b[0;34m\u001b[0m\u001b[0;34m\u001b[0m\u001b[0;34m\u001b[0m\u001b[0m\n",
      "\u001b[0;32m~/.local/lib/python3.8/site-packages/pandas/core/generic.py\u001b[0m in \u001b[0;36m_get_label_or_level_values\u001b[0;34m(self, key, axis)\u001b[0m\n\u001b[1;32m   1777\u001b[0m             \u001b[0mvalues\u001b[0m \u001b[0;34m=\u001b[0m \u001b[0mself\u001b[0m\u001b[0;34m.\u001b[0m\u001b[0maxes\u001b[0m\u001b[0;34m[\u001b[0m\u001b[0maxis\u001b[0m\u001b[0;34m]\u001b[0m\u001b[0;34m.\u001b[0m\u001b[0mget_level_values\u001b[0m\u001b[0;34m(\u001b[0m\u001b[0mkey\u001b[0m\u001b[0;34m)\u001b[0m\u001b[0;34m.\u001b[0m\u001b[0m_values\u001b[0m\u001b[0;34m\u001b[0m\u001b[0;34m\u001b[0m\u001b[0m\n\u001b[1;32m   1778\u001b[0m         \u001b[0;32melse\u001b[0m\u001b[0;34m:\u001b[0m\u001b[0;34m\u001b[0m\u001b[0;34m\u001b[0m\u001b[0m\n\u001b[0;32m-> 1779\u001b[0;31m             \u001b[0;32mraise\u001b[0m \u001b[0mKeyError\u001b[0m\u001b[0;34m(\u001b[0m\u001b[0mkey\u001b[0m\u001b[0;34m)\u001b[0m\u001b[0;34m\u001b[0m\u001b[0;34m\u001b[0m\u001b[0m\n\u001b[0m\u001b[1;32m   1780\u001b[0m \u001b[0;34m\u001b[0m\u001b[0m\n\u001b[1;32m   1781\u001b[0m         \u001b[0;31m# Check for duplicates\u001b[0m\u001b[0;34m\u001b[0m\u001b[0;34m\u001b[0m\u001b[0;34m\u001b[0m\u001b[0m\n",
      "\u001b[0;31mKeyError\u001b[0m: 'tic,fyearq'"
     ]
    }
   ],
   "source": []
  },
  {
   "cell_type": "code",
   "execution_count": 54,
   "id": "b7701f4d-06ef-4d96-9115-2fbe2d5217c7",
   "metadata": {},
   "outputs": [
    {
     "data": {
      "text/plain": [
       "365"
      ]
     },
     "execution_count": 54,
     "metadata": {},
     "output_type": "execute_result"
    }
   ],
   "source": []
  },
  {
   "cell_type": "code",
   "execution_count": 45,
   "id": "74d06ca5-bf55-483e-b3d9-78838a709aaf",
   "metadata": {},
   "outputs": [
    {
     "data": {
      "text/plain": [
       "10.15"
      ]
     },
     "execution_count": 45,
     "metadata": {},
     "output_type": "execute_result"
    }
   ],
   "source": []
  },
  {
   "cell_type": "code",
   "execution_count": null,
   "id": "2f486424-3bc0-4bbd-99f3-b948894042c9",
   "metadata": {},
   "outputs": [],
   "source": []
  }
 ],
 "metadata": {
  "kernelspec": {
   "display_name": "Python 3 (ipykernel)",
   "language": "python",
   "name": "python3"
  },
  "language_info": {
   "codemirror_mode": {
    "name": "ipython",
    "version": 3
   },
   "file_extension": ".py",
   "mimetype": "text/x-python",
   "name": "python",
   "nbconvert_exporter": "python",
   "pygments_lexer": "ipython3",
   "version": "3.8.6"
  }
 },
 "nbformat": 4,
 "nbformat_minor": 5
}
