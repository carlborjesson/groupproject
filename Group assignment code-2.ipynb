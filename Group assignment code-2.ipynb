{
 "cells": [
  {
   "cell_type": "code",
   "execution_count": 8,
   "id": "d72deacc-9063-4e9d-bc26-c8481d7dbcbf",
   "metadata": {},
   "outputs": [
    {
     "name": "stdout",
     "output_type": "stream",
     "text": [
      "Collecting textstat\n",
      "  Downloading textstat-0.7.2-py3-none-any.whl (101 kB)\n",
      "\u001b[K     |████████████████████████████████| 101 kB 5.3 MB/s ta 0:00:011\n",
      "\u001b[?25hCollecting pyphen\n",
      "  Downloading pyphen-0.11.0-py3-none-any.whl (2.0 MB)\n",
      "\u001b[K     |████████████████████████████████| 2.0 MB 37.0 MB/s eta 0:00:01\n",
      "\u001b[?25hInstalling collected packages: pyphen, textstat\n",
      "Successfully installed pyphen-0.11.0 textstat-0.7.2\n"
     ]
    }
   ],
   "source": [
    "### Group Assignment"
   ]
  },
  {
   "cell_type": "code",
   "execution_count": null,
   "id": "928970bb-7e14-4a28-991c-27fafe52970f",
   "metadata": {},
   "outputs": [],
   "source": [
    "### Importing packages\n",
    "import os\n",
    "import pandas as pd\n",
    "import numpy as np\n",
    "from datetime import datetime\n",
    "import matplotlib.pyplot as plt\n",
    "import pickle\n",
    "import sys, re, spacy\n",
    "from textblob import TextBlob\n",
    "import textstat"
   ]
  },
  {
   "cell_type": "code",
   "execution_count": null,
   "id": "d9b94231-66eb-48b9-a765-c81bb14c098f",
   "metadata": {},
   "outputs": [],
   "source": [
    "### creating ticker list\n",
    "ticker_list = ['NVDA.p','MA.p', 'KO.p', 'TD.p', 'TSLA.p', 'GS.p', 'JNJ.p', 'SBUX.p', 'NVO.p', 'INTU.p', 'NFLX.p', 'BX.p', 'LLY.p', 'PEP.p', 'EBAY.p', 'SAP.p', 'FB.p', 'ABBV.p', 'CHTR.p', 'MRK.p', 'BMY.p', 'ADBE.p', 'ORCL.p', 'F.p', 'NKE.p', 'BKNG.p', 'GM.p', 'UPS.p', 'T.p', 'AMD.p', 'CMCSA.p', 'DIS.p', 'MDT.p', 'SNY.p', 'INTC.p', 'MS.p', 'HON.p', 'DUK.p', 'BLK.p', 'TGT.p', 'CSCO.p', 'TMUS.p', 'UNH.p', 'WMT.p', 'AXP.p',  'FDX.p', 'MCD.p', 'GOOG.p', 'ASML.p', 'V.p', 'BAC.p', 'RY.p', 'AMT.p', 'WFC.p', 'XOM.p', 'MET.p', 'QCOM.p', 'PM.p', 'CVS.p', 'MSFT.p', 'AMZN.p', 'IBM.p', 'VZ.p', 'ACN.p', 'C.p', 'HD.p', 'NVS.p', 'ISRG.p', 'AZN.p', 'CRM.p', 'PG.p', 'AAPL.p', 'TMO.p', 'TSM.p', 'EL.p', 'DHR.p', 'TXN.p', 'JPM.p', 'PFE.p', 'SE.p', 'CVX.p', 'NEE.p', 'AMGN.p', 'COST.p', 'BA.p', 'ABT.p', 'MCO.p', 'LOW.p', 'LMT.p', 'UNP.p']\n",
    "len(ticker_list)"
   ]
  },
  {
   "cell_type": "code",
   "execution_count": 53,
   "id": "156ac89c-ec03-433c-b014-987c60a13232",
   "metadata": {
    "tags": []
   },
   "outputs": [
    {
     "name": "stdout",
     "output_type": "stream",
     "text": [
      "Detta är våra tickers, ['CMCSA.p', 'DIS.p', 'MDT.p', 'SNY.p', 'INTC.p', 'MS.p', 'HON.p', 'DUK.p', 'BLK.p', 'TGT.p']\n"
     ]
    }
   ],
   "source": [
    "### Extracting tickers, group 4\n",
    "tl4 = ticker_list[30:40]\n",
    "print(f\"Detta är våra tickers, {tl4}\")"
   ]
  },
  {
   "cell_type": "code",
   "execution_count": 63,
   "id": "18ae2a11-e1a8-4f89-9c7c-2e448801d61d",
   "metadata": {},
   "outputs": [
    {
     "name": "stdout",
     "output_type": "stream",
     "text": [
      "DIS.p\n"
     ]
    }
   ],
   "source": [
    "print(tl4[1])"
   ]
  },
  {
   "cell_type": "code",
   "execution_count": 73,
   "id": "c95450bc-02e2-4b5f-bc09-7f3869cea0b7",
   "metadata": {},
   "outputs": [],
   "source": [
    "i=0\n",
    "for t in tl4:\n",
    "    t = pd.DataFrame(pickle.load(open( str(\"Transcripts/\"+tl4[i]), \"rb\" ) ) )"
   ]
  },
  {
   "cell_type": "code",
   "execution_count": 114,
   "id": "dd0b2996-52d5-4acc-910f-6ded3f8c494e",
   "metadata": {},
   "outputs": [],
   "source": [
    "disneydf = pd.DataFrame(pickle.load(open( str(\"Transcripts/DIS.p\"), \"rb\" ) ) )\n",
    "CMCSAdf = pd.DataFrame(pickle.load(open( str(\"Transcripts/CMCSA.p\"), \"rb\" ) ) )"
   ]
  },
  {
   "cell_type": "code",
   "execution_count": 112,
   "id": "6f67626a-3a5c-4999-9d35-ec5d8463d177",
   "metadata": {
    "collapsed": true,
    "jupyter": {
     "outputs_hidden": true
    },
    "tags": []
   },
   "outputs": [
    {
     "data": {
      "text/html": [
       "<div>\n",
       "<style scoped>\n",
       "    .dataframe tbody tr th:only-of-type {\n",
       "        vertical-align: middle;\n",
       "    }\n",
       "\n",
       "    .dataframe tbody tr th {\n",
       "        vertical-align: top;\n",
       "    }\n",
       "\n",
       "    .dataframe thead th {\n",
       "        text-align: right;\n",
       "    }\n",
       "</style>\n",
       "<table border=\"1\" class=\"dataframe\">\n",
       "  <thead>\n",
       "    <tr style=\"text-align: right;\">\n",
       "      <th></th>\n",
       "      <th>audio</th>\n",
       "      <th>id</th>\n",
       "      <th>participant</th>\n",
       "      <th>quarter</th>\n",
       "      <th>symbol</th>\n",
       "      <th>time</th>\n",
       "      <th>title</th>\n",
       "      <th>transcript</th>\n",
       "      <th>year</th>\n",
       "    </tr>\n",
       "  </thead>\n",
       "  <tbody>\n",
       "    <tr>\n",
       "      <th>0</th>\n",
       "      <td>https://static.finnhub.io/transcripts_audio/4f...</td>\n",
       "      <td>DIS_181966</td>\n",
       "      <td>[{'name': 'Lowell Singer', 'description': 'Sen...</td>\n",
       "      <td>1</td>\n",
       "      <td>DIS</td>\n",
       "      <td>2021-02-12 03:38:13</td>\n",
       "      <td>DIS - Earnings call Q1 2021</td>\n",
       "      <td>[{'name': 'Operator', 'speech': ['Ladies and g...</td>\n",
       "      <td>2021</td>\n",
       "    </tr>\n",
       "    <tr>\n",
       "      <th>1</th>\n",
       "      <td>https://static.finnhub.io/transcripts_audio/55...</td>\n",
       "      <td>DIS_179663</td>\n",
       "      <td>[{'name': 'Lowell Singer', 'description': 'Sen...</td>\n",
       "      <td>4</td>\n",
       "      <td>DIS</td>\n",
       "      <td>2020-11-13 02:39:12</td>\n",
       "      <td>DIS - Earnings call Q4 2020</td>\n",
       "      <td>[{'name': 'Operator', 'speech': ['Ladies and g...</td>\n",
       "      <td>2020</td>\n",
       "    </tr>\n",
       "    <tr>\n",
       "      <th>2</th>\n",
       "      <td>https://static.finnhub.io/transcripts_audio/d8...</td>\n",
       "      <td>DIS_172795</td>\n",
       "      <td>[{'name': 'Lowell Singer', 'description': 'SVP...</td>\n",
       "      <td>3</td>\n",
       "      <td>DIS</td>\n",
       "      <td>2020-08-05 03:43:07</td>\n",
       "      <td>DIS - Earnings call Q3 2020</td>\n",
       "      <td>[{'name': 'Operator', 'speech': ['Ladies and g...</td>\n",
       "      <td>2020</td>\n",
       "    </tr>\n",
       "    <tr>\n",
       "      <th>3</th>\n",
       "      <td>https://static.finnhub.io/transcripts_audio/89...</td>\n",
       "      <td>DIS_168147</td>\n",
       "      <td>[{'name': 'Lowell Singer', 'description': 'Sen...</td>\n",
       "      <td>2</td>\n",
       "      <td>DIS</td>\n",
       "      <td>2020-05-06 04:59:34</td>\n",
       "      <td>DIS - Earnings call Q2 2020</td>\n",
       "      <td>[{'name': 'Operator', 'speech': ['Ladies and g...</td>\n",
       "      <td>2020</td>\n",
       "    </tr>\n",
       "    <tr>\n",
       "      <th>4</th>\n",
       "      <td>https://static.finnhub.io/transcripts_audio/74...</td>\n",
       "      <td>DIS_163247</td>\n",
       "      <td>[{'name': 'Lowell Singer', 'description': 'SVP...</td>\n",
       "      <td>1</td>\n",
       "      <td>DIS</td>\n",
       "      <td>2020-02-05 04:09:43</td>\n",
       "      <td>DIS - Earnings call Q1 2020</td>\n",
       "      <td>[{'name': 'Operator', 'speech': ['Ladies and g...</td>\n",
       "      <td>2020</td>\n",
       "    </tr>\n",
       "  </tbody>\n",
       "</table>\n",
       "</div>"
      ],
      "text/plain": [
       "                                               audio          id  \\\n",
       "0  https://static.finnhub.io/transcripts_audio/4f...  DIS_181966   \n",
       "1  https://static.finnhub.io/transcripts_audio/55...  DIS_179663   \n",
       "2  https://static.finnhub.io/transcripts_audio/d8...  DIS_172795   \n",
       "3  https://static.finnhub.io/transcripts_audio/89...  DIS_168147   \n",
       "4  https://static.finnhub.io/transcripts_audio/74...  DIS_163247   \n",
       "\n",
       "                                         participant  quarter symbol  \\\n",
       "0  [{'name': 'Lowell Singer', 'description': 'Sen...        1    DIS   \n",
       "1  [{'name': 'Lowell Singer', 'description': 'Sen...        4    DIS   \n",
       "2  [{'name': 'Lowell Singer', 'description': 'SVP...        3    DIS   \n",
       "3  [{'name': 'Lowell Singer', 'description': 'Sen...        2    DIS   \n",
       "4  [{'name': 'Lowell Singer', 'description': 'SVP...        1    DIS   \n",
       "\n",
       "                  time                        title  \\\n",
       "0  2021-02-12 03:38:13  DIS - Earnings call Q1 2021   \n",
       "1  2020-11-13 02:39:12  DIS - Earnings call Q4 2020   \n",
       "2  2020-08-05 03:43:07  DIS - Earnings call Q3 2020   \n",
       "3  2020-05-06 04:59:34  DIS - Earnings call Q2 2020   \n",
       "4  2020-02-05 04:09:43  DIS - Earnings call Q1 2020   \n",
       "\n",
       "                                          transcript  year  \n",
       "0  [{'name': 'Operator', 'speech': ['Ladies and g...  2021  \n",
       "1  [{'name': 'Operator', 'speech': ['Ladies and g...  2020  \n",
       "2  [{'name': 'Operator', 'speech': ['Ladies and g...  2020  \n",
       "3  [{'name': 'Operator', 'speech': ['Ladies and g...  2020  \n",
       "4  [{'name': 'Operator', 'speech': ['Ladies and g...  2020  "
      ]
     },
     "execution_count": 112,
     "metadata": {},
     "output_type": "execute_result"
    }
   ],
   "source": [
    "disneydf.head()\n"
   ]
  },
  {
   "cell_type": "code",
   "execution_count": 115,
   "id": "d484800e-1cfe-44d3-8c5c-d25a005d63f5",
   "metadata": {},
   "outputs": [
    {
     "name": "stdout",
     "output_type": "stream",
     "text": [
      "    quarter symbol                                         transcript  year\n",
      "0         1    DIS  [{'name': 'Operator', 'speech': ['Ladies and g...  2021\n",
      "1         4    DIS  [{'name': 'Operator', 'speech': ['Ladies and g...  2020\n",
      "2         3    DIS  [{'name': 'Operator', 'speech': ['Ladies and g...  2020\n",
      "3         2    DIS  [{'name': 'Operator', 'speech': ['Ladies and g...  2020\n",
      "4         1    DIS  [{'name': 'Operator', 'speech': ['Ladies and g...  2020\n",
      "5         4    DIS  [{'name': 'Operator', 'speech': ['Ladies and g...  2019\n",
      "6         3    DIS  [{'name': 'Operator', 'speech': ['Good day, la...  2019\n",
      "7         2    DIS  [{'name': 'Operator', 'speech': ['Good day, la...  2019\n",
      "8         1    DIS  [{'name': 'Operator', 'speech': ['Good day, la...  2019\n",
      "9         4    DIS  [{'name': 'Operator', 'speech': ['Good day, la...  2018\n",
      "10        3    DIS  [{'name': 'Operator', 'speech': ['Welcome to t...  2018\n",
      "11        2    DIS  [{'name': 'Operator', 'speech': ['Hello, and w...  2018\n",
      "13        1    DIS  [{'name': 'Operator', 'speech': ['Thank you so...  2018\n",
      "14        1    DIS  [{'name': 'Operator', 'speech': ['Welcome to t...  2017\n",
      "15        4    DIS  [{'name': 'Operator', 'speech': ['Welcome to T...  2017\n",
      "17        3    DIS  [{'name': 'Operator', 'speech': ['Welcome to T...  2017\n",
      "19        2    DIS  [{'name': 'Operator', 'speech': ['Welcome to t...  2017\n",
      "20        1    DIS  [{'name': 'Operator', 'speech': ['Welcome to T...  2017\n",
      "21        4    DIS  [{'name': 'Operator', 'speech': ['Welcome to T...  2016\n",
      "23        3    DIS  [{'name': 'Operator', 'speech': ['Welcome to t...  2016\n",
      "24        2    DIS  [{'name': 'Operator', 'speech': ['Welcome to T...  2016\n",
      "26        1    DIS  [{'name': 'Operator', 'speech': ['Welcome to t...  2016\n",
      "27        4    DIS  [{'name': 'Operator', 'speech': ['Welcome to T...  2015\n",
      "29        3    DIS  [{'name': 'Operator', 'speech': ['Hello and we...  2015\n",
      "30        2    DIS  [{'name': 'Operator', 'speech': ['Welcome to T...  2015\n",
      "31        1    DIS  [{'name': 'Operator', 'speech': ['Welcome to t...  2015\n",
      "32        4    DIS  [{'name': 'Operator', 'speech': ['Welcome to t...  2014\n",
      "34        3    DIS  [{'name': 'Operator', 'speech': ['Welcome to t...  2014\n",
      "36        2    DIS  [{'name': 'Operator', 'speech': ['Hello, and w...  2014\n",
      "37        1    DIS  [{'name': 'Operator', 'speech': ['Welcome to t...  2014\n",
      "39        4    DIS  [{'name': 'Operator', 'speech': ['Welcome to t...  2013\n",
      "40        3    DIS  [{'name': 'Operator', 'speech': ['Welcome to t...  2013\n",
      "42        2    DIS  [{'name': 'Operator', 'speech': ['Hello and we...  2013\n",
      "44        1    DIS  [{'name': 'Operator', 'speech': ['Welcome to T...  2013\n",
      "45        4    DIS  [{'name': 'Operator', 'speech': ['Welcome to T...  2012\n",
      "46        3    DIS  [{'name': 'Operator', 'speech': ['Good day, la...  2012\n",
      "47        2    DIS  [{'name': 'Operator', 'speech': ['Good day, la...  2012\n",
      "48        1    DIS  [{'name': 'Operator', 'speech': ['Good day, la...  2012\n",
      "49        4    DIS  [{'name': 'Operator', 'speech': ['Good day, la...  2011\n",
      "50        3    DIS  [{'name': 'Operator', 'speech': ['Good day, la...  2011\n",
      "51        2    DIS  [{'name': 'Operator', 'speech': ['Good day, la...  2011\n",
      "52        1    DIS  [{'name': 'Operator', 'speech': ['Good day, la...  2011\n",
      "53        2    DIS  [{'name': 'Operator', 'speech': ['Good day, la...  2010\n",
      "54        1    DIS  [{'name': 'Operator', 'speech': ['Good day lad...  2010\n",
      "55        4    DIS  [{'name': 'Operator', 'speech': ['Good day, la...  2009\n",
      "56        3    DIS  [{'name': 'Operator', 'speech': ['Good day, la...  2009\n",
      "57        2    DIS  [{'name': 'Operator', 'speech': ['Good day, la...  2009\n",
      "58        1    DIS  [{'name': 'Operator', 'speech': ['Good day, la...  2009\n",
      "59        4    DIS  [{'name': 'Operator', 'speech': ['Good day, la...  2008\n",
      "60        3    DIS  [{'name': 'Operator', 'speech': ['Good day, la...  2008\n",
      "61        2    DIS  [{'name': 'Operator', 'speech': ['Good day, la...  2008\n",
      "62        1    DIS  [{'name': 'Operator', 'speech': ['Good day, la...  2008\n",
      "63        4    DIS  [{'name': 'Operator', 'speech': ['Welcome to t...  2007\n",
      "64        3    DIS  [{'name': 'Operator', 'speech': ['Good day, la...  2007\n",
      "65        2    DIS  [{'name': 'Operator', 'speech': ['Good day, la...  2007\n",
      "66        1    DIS  [{'name': 'Operator', 'speech': ['Welcome to t...  2007\n",
      "67        4    DIS  [{'name': 'Operator', 'speech': ['Good day, la...  2006\n",
      "68        3    DIS  [{'name': 'Operator', 'speech': ['Good day, la...  2006\n",
      "69        2    DIS  [{'name': 'Operator', 'speech': ['Good day, la...  2006\n",
      "70        1    DIS  [{'name': 'Operator', 'speech': ['Good day, la...  2006\n"
     ]
    }
   ],
   "source": [
    "## dropping columns\n",
    "disneydf = disneydf.drop(columns=['audio','id','participant','time','title'])\n",
    "## removing -1 and 0 quarters\n",
    "disneydf['remove']=disneydf['quarter']<=0\n",
    "disneydf = disneydf[disneydf['remove']==False]\n",
    "disneydf = disneydf.drop(columns=['remove'])\n",
    "# print all\n",
    "with pd.option_context('display.max_rows', None, 'display.max_columns', None):  # more options can be specified also\n",
    "    print(disneydf)"
   ]
  },
  {
   "cell_type": "code",
   "execution_count": 121,
   "id": "a2c0449b-b20c-49a1-b8c8-f32ff54d7689",
   "metadata": {},
   "outputs": [
    {
     "data": {
      "text/plain": [
       "quarter        int64\n",
       "symbol        object\n",
       "transcript    object\n",
       "year           int64\n",
       "dtype: object"
      ]
     },
     "execution_count": 121,
     "metadata": {},
     "output_type": "execute_result"
    }
   ],
   "source": [
    "disneydf.dtypes"
   ]
  },
  {
   "cell_type": "code",
   "execution_count": 123,
   "id": "f2a9a75a-8b5a-4d94-9f45-fc9f13371c7d",
   "metadata": {},
   "outputs": [],
   "source": []
  },
  {
   "cell_type": "code",
   "execution_count": 124,
   "id": "f5989a58-7445-4f1a-83ab-552e716464bf",
   "metadata": {},
   "outputs": [
    {
     "data": {
      "text/plain": [
       "quarter        int64\n",
       "symbol        object\n",
       "transcript    object\n",
       "year           int64\n",
       "dtype: object"
      ]
     },
     "execution_count": 124,
     "metadata": {},
     "output_type": "execute_result"
    }
   ],
   "source": []
  },
  {
   "cell_type": "code",
   "execution_count": null,
   "id": "5071f9ee-0e65-47f3-849c-f9251df043ae",
   "metadata": {},
   "outputs": [],
   "source": []
  }
 ],
 "metadata": {
  "kernelspec": {
   "display_name": "Python 3 (ipykernel)",
   "language": "python",
   "name": "python3"
  },
  "language_info": {
   "codemirror_mode": {
    "name": "ipython",
    "version": 3
   },
   "file_extension": ".py",
   "mimetype": "text/x-python",
   "name": "python",
   "nbconvert_exporter": "python",
   "pygments_lexer": "ipython3",
   "version": "3.8.6"
  }
 },
 "nbformat": 4,
 "nbformat_minor": 5
}
